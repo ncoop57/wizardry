{
 "cells": [
  {
   "cell_type": "code",
   "execution_count": null,
   "metadata": {},
   "outputs": [],
   "source": [
    "# default_exp characters"
   ]
  },
  {
   "cell_type": "markdown",
   "metadata": {},
   "source": [
    "# Characters\n",
    "\n",
    "> This module contains all of the classes and functions for defining the different characters in `wizardry`."
   ]
  },
  {
   "cell_type": "code",
   "execution_count": 5,
   "metadata": {},
   "outputs": [],
   "source": [
    "# export\n",
    "import random\n",
    "\n",
    "from abc import ABC, abstractmethod"
   ]
  },
  {
   "cell_type": "code",
   "execution_count": null,
   "metadata": {},
   "outputs": [],
   "source": [
    "# export\n",
    "class Ability:\n",
    "    ability_types = [\"fire\", \"water\"]\n",
    "\n",
    "    def __init__(self, damage, damage_type):\n",
    "        self.damage = damage\n",
    "        self.damage_type = damage_type\n",
    "\n",
    "    @abstractmethod\n",
    "    def __str__(self):\n",
    "        if self.damage_type == \"fire\":\n",
    "            return \"a jet of fire shot towards\"\n",
    "        elif self.damage_type == \"water\":\n",
    "            return \"ice cold water is flung towards\"\n",
    "        "
   ]
  },
  {
   "cell_type": "code",
   "execution_count": 6,
   "metadata": {},
   "outputs": [],
   "source": [
    "# export\n",
    "class Character(ABC):\n",
    "    def __init__(self, name, max_health, ability):\n",
    "        self.name = name\n",
    "        self.max_health = max_health\n",
    "        self.current_health = max_health\n",
    "        self.ability = ability\n",
    "        self.level = 1\n",
    "    \n",
    "    @abstractmethod\n",
    "    def attack(self, target):\n",
    "        pass\n",
    "    \n",
    "    @abstractmethod\n",
    "    def defend(self, attacker):\n",
    "        pass\n",
    "    \n",
    "    def status(self):\n",
    "        print(f\"{self.name}'s Current Health: {self.current_health}\")\n",
    "        print(f\"{self.name}'s Ability Damage: {self.ability.damage}\")\n",
    "        print(f\"{self.name}'s Ability Type: {self.ability.damage_type}\")"
   ]
  },
  {
   "cell_type": "code",
   "execution_count": 7,
   "metadata": {},
   "outputs": [],
   "source": [
    "# export\n",
    "class Wizard(Character):\n",
    "    def __init__(self, name, max_health, ability):\n",
    "        super().__init__(name, max_health, ability)\n",
    "    \n",
    "    def attack(self, target):\n",
    "        print(f\"From {self.name}'s wand, {self.ability} {target.name}\")\n",
    "        target.current_health -= self.ability.damage\n",
    "    \n",
    "    def defend(self):\n",
    "        pass\n",
    "    \n",
    "    def level_up(self):\n",
    "        self.level += 1\n",
    "        self.max_health = self.max_health * self.level\n",
    "        self.current_health = self.max_health\n",
    "        self.ability.damage = self.ability.damage * self.level"
   ]
  },
  {
   "cell_type": "code",
   "execution_count": 8,
   "metadata": {},
   "outputs": [],
   "source": [
    "# export\n",
    "class Demon(Character):\n",
    "    def __init__(self, name, max_health, damage):\n",
    "        super().__init__(name, max_health, Ability(damage, \"fire\"))\n",
    "    \n",
    "    def attack(self, target):\n",
    "        # scaling = random.uniform(0, 1)\n",
    "        print(f\"From {self.name}'s wand, {self.ability} {target.name}\")\n",
    "        target.current_health -= self.ability.damage\n",
    "    \n",
    "    def defend(self):\n",
    "        pass"
   ]
  },
  {
   "cell_type": "code",
   "execution_count": 6,
   "metadata": {},
   "outputs": [
    {
     "name": "stdout",
     "output_type": "stream",
     "text": [
      "Converted 00_characters.ipynb.\n",
      "Converted 01_game.ipynb.\n",
      "Converted index.ipynb.\n"
     ]
    }
   ],
   "source": [
    "# hide\n",
    "from nbdev.export import notebook2script\n",
    "\n",
    "notebook2script()"
   ]
  },
  {
   "cell_type": "code",
   "execution_count": null,
   "metadata": {},
   "outputs": [],
   "source": []
  }
 ],
 "metadata": {
  "kernelspec": {
   "display_name": "Python 3",
   "language": "python",
   "name": "python3"
  },
  "language_info": {
   "codemirror_mode": {
    "name": "ipython",
    "version": 3
   },
   "file_extension": ".py",
   "mimetype": "text/x-python",
   "name": "python",
   "nbconvert_exporter": "python",
   "pygments_lexer": "ipython3",
   "version": "3.8.5"
  }
 },
 "nbformat": 4,
 "nbformat_minor": 2
}