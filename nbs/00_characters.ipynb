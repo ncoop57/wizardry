{
 "cells": [
  {
   "cell_type": "code",
   "execution_count": null,
   "metadata": {},
   "outputs": [],
   "source": [
    "# default_exp characters"
   ]
  },
  {
   "cell_type": "markdown",
   "metadata": {},
   "source": [
    "# Characters\n",
    "\n",
    "> This module contains all of the classes and functions for defining the different characters in `wizardry`."
   ]
  },
  {
   "cell_type": "code",
   "execution_count": 5,
   "metadata": {},
   "outputs": [],
   "source": [
    "# export\n",
    "import random\n",
    "\n",
    "from abc import ABC, abstractmethod"
   ]
  },
  {
   "cell_type": "code",
   "execution_count": null,
   "metadata": {},
   "outputs": [],
   "source": [
    "# export\n",
    "class Ability:\n",
    "    ability_types = [\"fire\", \"water\"]\n",
    "\n",
    "    def __init__(self, damage, damage_type):\n",
    "        self.damage = damage\n",
    "        self.damage_type = damage_type\n",
    "\n",
    "    @abstractmethod\n",
    "    def __str__(self):\n",
    "        if self.damage_type == \"fire\":\n",
    "            return \"A jet of fire shot from your wand towards your target.\"\n",
    "        elif self.damage_type == \"water\":\n",
    "            return \"Ice cold water sprung from your wand directed at your target.\"\n",
    "        "
   ]
  },
  {
   "cell_type": "code",
   "execution_count": 6,
   "metadata": {},
   "outputs": [],
   "source": [
    "# export\n",
    "class Character(ABC):\n",
    "    def __init__(self, name, health):\n",
    "        self.name = name\n",
    "        self.health = health\n",
    "        self.level = 1\n",
    "    \n",
    "    @abstractmethod\n",
    "    def attack(self, target):\n",
    "        pass\n",
    "    \n",
    "    @abstractmethod\n",
    "    def defend(self, attacker):\n",
    "        pass\n",
    "    \n",
    "    def status(self):\n",
    "        print(f\"{self.name}'s Health: {self.health}\")"
   ]
  },
  {
   "cell_type": "code",
   "execution_count": 7,
   "metadata": {},
   "outputs": [],
   "source": [
    "# export\n",
    "class Wizard(Character):\n",
    "    def __init__(self, name, health, ability):\n",
    "        super().__init__(name, health)\n",
    "        self.ability = ability\n",
    "    \n",
    "    def attack(self, target):\n",
    "        # scaling = random.uniform(0, 1)\n",
    "        print(self.ability)\n",
    "        target.health -= self.ability.damage\n",
    "    \n",
    "    def defend(self):\n",
    "        pass"
   ]
  },
  {
   "cell_type": "code",
   "execution_count": 8,
   "metadata": {},
   "outputs": [],
   "source": [
    "# export\n",
    "class Demon(Character):\n",
    "    def __init__(self, name, health, ability):\n",
    "        super().__init__(name, health)\n",
    "        self.ability = ability\n",
    "    \n",
    "    def attack(self, target):\n",
    "        # scaling = random.uniform(0, 1)\n",
    "        target.health -= self.ability.damage\n",
    "    \n",
    "    def defend(self):\n",
    "        pass"
   ]
  },
  {
   "cell_type": "code",
   "execution_count": 1,
   "metadata": {},
   "outputs": [
    {
     "name": "stdout",
     "output_type": "stream",
     "text": [
      "Converted 00_characters.ipynb.\n",
      "Converted 01_game.ipynb.\n",
      "Converted index.ipynb.\n"
     ]
    }
   ],
   "source": [
    "# hide\n",
    "from nbdev.export import notebook2script\n",
    "\n",
    "notebook2script()"
   ]
  },
  {
   "cell_type": "code",
   "execution_count": null,
   "metadata": {},
   "outputs": [],
   "source": []
  }
 ],
 "metadata": {
  "kernelspec": {
   "display_name": "Python 3",
   "language": "python",
   "name": "python3"
  },
  "language_info": {
   "codemirror_mode": {
    "name": "ipython",
    "version": 3
   },
   "file_extension": ".py",
   "mimetype": "text/x-python",
   "name": "python",
   "nbconvert_exporter": "python",
   "pygments_lexer": "ipython3",
   "version": "3.8.5"
  }
 },
 "nbformat": 4,
 "nbformat_minor": 2
}