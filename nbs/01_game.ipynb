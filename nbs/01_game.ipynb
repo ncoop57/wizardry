{
 "cells": [
  {
   "cell_type": "code",
   "execution_count": null,
   "metadata": {},
   "outputs": [],
   "source": [
    "# default_exp game"
   ]
  },
  {
   "cell_type": "code",
   "execution_count": null,
   "metadata": {},
   "outputs": [],
   "source": [
    "# hide\n",
    "%load_ext autoreload\n",
    "%autoreload 2"
   ]
  },
  {
   "cell_type": "markdown",
   "metadata": {},
   "source": [
    "# Game\n",
    "\n",
    "> This module contains all of the functions for defining the game loop and logic in `wizardry`."
   ]
  },
  {
   "cell_type": "code",
   "execution_count": null,
   "metadata": {},
   "outputs": [],
   "source": [
    "# export\n",
    "from wizardry.characters import Ability, Demon, Wizard"
   ]
  },
  {
   "cell_type": "code",
   "execution_count": null,
   "metadata": {},
   "outputs": [],
   "source": [
    "# export\n",
    "GAME_TITLE = \"\"\"\\\n",
    "Welcome to Wizardry!\n",
    "\"\"\"\n",
    "\n",
    "BOSS_BASE_HEALTH = 50\n",
    "BOSS_BASE_DAMAGE = 20"
   ]
  },
  {
   "cell_type": "code",
   "execution_count": null,
   "metadata": {},
   "outputs": [],
   "source": [
    "# export\n",
    "def init_player():\n",
    "    print(f\"Hi there wizard, what is your specialty? {Ability.ability_types}\")\n",
    "    while True:\n",
    "        ability_type = input()\n",
    "        if ability_type in Ability.ability_types:\n",
    "            break\n",
    "        else:\n",
    "            print(f\"Invalid ability choice. What is your specialty? {Ability.ability_types}\")\n",
    "    return Wizard(\"Nathan\", 100, Ability(10, ability_type))"
   ]
  },
  {
   "cell_type": "code",
   "execution_count": null,
   "metadata": {},
   "outputs": [],
   "source": [
    "wizard = init_player()\n",
    "wizard.attack(wizard)"
   ]
  },
  {
   "cell_type": "code",
   "execution_count": null,
   "metadata": {},
   "outputs": [],
   "source": [
    "# export\n",
    "COMBAT_OPTIONS = [\"attack\"]\n",
    "\n",
    "def combat(player, boss):\n",
    "    print(\"Combat has begun!\")\n",
    "    while True:\n",
    "        player.status()\n",
    "        boss.status()\n",
    "        print(f\"What do you want to do? {COMBAT_OPTIONS}\")\n",
    "        player_move = input()\n",
    "        if player_move not in COMBAT_OPTIONS:\n",
    "            print(\"Not an option, you lose a move!\")\n",
    "        else:\n",
    "            if player_move == \"attack\":\n",
    "                player.attack(boss)\n",
    "                if boss.current_health <= 0:\n",
    "                    return player\n",
    "        \n",
    "        boss.attack(player)\n",
    "        if player.current_health <= 0:\n",
    "            return boss"
   ]
  },
  {
   "cell_type": "code",
   "execution_count": null,
   "metadata": {},
   "outputs": [],
   "source": [
    "wizard = init_player()\n",
    "boss = Demon(\"Henry\", BOSS_BASE_HEALTH, BOSS_BASE_DAMAGE)"
   ]
  },
  {
   "cell_type": "code",
   "execution_count": null,
   "metadata": {},
   "outputs": [],
   "source": [
    "combat(wizard, boss)"
   ]
  },
  {
   "cell_type": "code",
   "execution_count": null,
   "metadata": {},
   "outputs": [],
   "source": [
    "# export\n",
    "\n",
    "def game_loop(player, n = 10):\n",
    "    for i in range(1, n + 1):\n",
    "        boss = Demon(\"Henry\", BOSS_BASE_HEALTH * i, BOSS_BASE_DAMAGE * i)\n",
    "        print(f\"A demon named {boss.name} appeared! They seem to have a chip on their shoulder and want to fight you.\")\n",
    "        winner = combat(player, boss)\n",
    "        if winner == player:\n",
    "            print(f\"Well done, you beat {boss.name} and leveled up to {i + 1}!\")\n",
    "            player.level_up()\n",
    "        else:\n",
    "            print(f\"You have fallen to {boss.name}. Game Over!\")\n",
    "            break\n",
    "    \n",
    "    if i == n:\n",
    "        print(f\"Congratulations, you've defeated all the enemies and won the game. {player.name}'s name will be known throughout the land!\")"
   ]
  },
  {
   "cell_type": "code",
   "execution_count": null,
   "metadata": {},
   "outputs": [],
   "source": [
    "wizard = init_player()\n",
    "game_loop(wizard, n = 2)"
   ]
  },
  {
   "cell_type": "code",
   "execution_count": null,
   "metadata": {},
   "outputs": [],
   "source": [
    "# hide\n",
    "from nbdev.export import notebook2script\n",
    "\n",
    "notebook2script()"
   ]
  },
  {
   "cell_type": "code",
   "execution_count": null,
   "metadata": {},
   "outputs": [],
   "source": []
  }
 ],
 "metadata": {
  "kernelspec": {
   "display_name": "Python 3",
   "language": "python",
   "name": "python3"
  },
  "language_info": {
   "codemirror_mode": {
    "name": "ipython",
    "version": 3
   },
   "file_extension": ".py",
   "mimetype": "text/x-python",
   "name": "python",
   "nbconvert_exporter": "python",
   "pygments_lexer": "ipython3",
   "version": "3.8.5"
  }
 },
 "nbformat": 4,
 "nbformat_minor": 2
}