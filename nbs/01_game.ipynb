{
 "cells": [
  {
   "cell_type": "code",
   "execution_count": null,
   "metadata": {},
   "outputs": [],
   "source": [
    "# default_exp game"
   ]
  },
  {
   "cell_type": "code",
   "execution_count": 1,
   "metadata": {},
   "outputs": [],
   "source": [
    "# hide\n",
    "%load_ext autoreload\n",
    "%autoreload 2"
   ]
  },
  {
   "cell_type": "markdown",
   "metadata": {},
   "source": [
    "# Game\n",
    "\n",
    "> This module contains all of the functions for defining the game loop and logic in `wizardry`."
   ]
  },
  {
   "cell_type": "code",
   "execution_count": 6,
   "metadata": {},
   "outputs": [],
   "source": [
    "# export\n",
    "from wizardry.characters import Ability, Demon, Wizard"
   ]
  },
  {
   "cell_type": "code",
   "execution_count": 7,
   "metadata": {},
   "outputs": [],
   "source": [
    "# export\n",
    "GAME_TITLE = \"\"\"\\\n",
    "Welcome to Wizardry!\n",
    "\"\"\""
   ]
  },
  {
   "cell_type": "code",
   "execution_count": 8,
   "metadata": {},
   "outputs": [],
   "source": [
    "# export\n",
    "def init_player():\n",
    "    print(f\"Hi there wizard, what is your specialty? {Ability.ability_types}\")\n",
    "    while True:\n",
    "        ability_type = input()\n",
    "        if ability_type in Ability.ability_types:\n",
    "            break\n",
    "        else:\n",
    "            print(f\"Invalid ability choice. What is your specialty? {Ability.ability_types}\")\n",
    "    return Wizard(\"Nathan\", 100, Ability(10, ability_type))"
   ]
  },
  {
   "cell_type": "code",
   "execution_count": 9,
   "metadata": {},
   "outputs": [
    {
     "name": "stdout",
     "output_type": "stream",
     "text": [
      "Hi there wizard, what is your specialty? ['fire', 'water']\n",
      "Invalid ability choice. What is your specialty? ['fire', 'water']\n",
      "A jet of fire shot from your wand towards your target.\n"
     ]
    }
   ],
   "source": [
    "wizard = init_player()\n",
    "wizard.attack(wizard)"
   ]
  },
  {
   "cell_type": "code",
   "execution_count": 11,
   "metadata": {},
   "outputs": [],
   "source": []
  },
  {
   "cell_type": "code",
   "execution_count": 12,
   "metadata": {},
   "outputs": [],
   "source": [
    "# export\n",
    "COMBAT_OPTIONS = [\"attack\"]\n",
    "\n",
    "def combat(player, boss):\n",
    "    print(\"Combat has begun!\")\n",
    "    while player.health > 0 and boss.health > 0:\n",
    "        player.status()\n",
    "        boss.status()\n",
    "        print(f\"What do you want to do? {COMBAT_OPTIONS}\")\n",
    "        player_move = input()\n",
    "        if player_move not in COMBAT_OPTIONS:\n",
    "            print(\"Not an option, you lose a move!\")\n",
    "        else:\n",
    "            if player_move == \"attack\":\n",
    "                player.attack(boss)\n",
    "        \n",
    "        boss.attack(player)"
   ]
  },
  {
   "cell_type": "code",
   "execution_count": 13,
   "metadata": {},
   "outputs": [
    {
     "name": "stdout",
     "output_type": "stream",
     "text": [
      "Hi there wizard, what is your specialty? ['fire', 'water']\n"
     ]
    }
   ],
   "source": [
    "wizard = init_player()\n",
    "boss = Demon(\"Henry\", BOSS_BASE_HEALTH, Ability(BOSS_BASE_DAMAGE, \"fire\"))"
   ]
  },
  {
   "cell_type": "code",
   "execution_count": 14,
   "metadata": {},
   "outputs": [
    {
     "name": "stdout",
     "output_type": "stream",
     "text": [
      "Combat has begun!\n",
      "Nathan's Health: 100\n",
      "Henry's Health: 50\n",
      "What do you want to do? ['attack']\n",
      "A jet of fire shot from your wand towards your target.\n",
      "Nathan's Health: 80\n",
      "Henry's Health: 40\n",
      "What do you want to do? ['attack']\n",
      "A jet of fire shot from your wand towards your target.\n",
      "Nathan's Health: 60\n",
      "Henry's Health: 30\n",
      "What do you want to do? ['attack']\n",
      "A jet of fire shot from your wand towards your target.\n",
      "Nathan's Health: 40\n",
      "Henry's Health: 20\n",
      "What do you want to do? ['attack']\n",
      "A jet of fire shot from your wand towards your target.\n",
      "Nathan's Health: 20\n",
      "Henry's Health: 10\n",
      "What do you want to do? ['attack']\n",
      "A jet of fire shot from your wand towards your target.\n"
     ]
    }
   ],
   "source": [
    "combat(wizard, boss)"
   ]
  },
  {
   "cell_type": "code",
   "execution_count": null,
   "metadata": {},
   "outputs": [],
   "source": [
    "# export\n",
    "BOSS_BASE_HEALTH = 50\n",
    "BOSS_BASE_DAMAGE = 20\n",
    "\n",
    "def game_loop(player, n = 10):\n",
    "    for i in range(10):\n",
    "        boss = Demon(\"Henry\", BOSS_BASE_HEALTH * i, Ability(BOSS_BASE_DAMAGE * i, \"fire\"))\n",
    "        print(f\"A demon named {boss.name} appeared! They seem to have a chip on their shoulder and want to fight you.\")\n",
    "        combat(player, boss)\n",
    "    pass"
   ]
  },
  {
   "cell_type": "code",
   "execution_count": 4,
   "metadata": {},
   "outputs": [
    {
     "name": "stdout",
     "output_type": "stream",
     "text": [
      "Converted 00_characters.ipynb.\n",
      "Converted 01_game.ipynb.\n",
      "Converted index.ipynb.\n"
     ]
    }
   ],
   "source": [
    "# hide\n",
    "from nbdev.export import notebook2script\n",
    "\n",
    "notebook2script()"
   ]
  },
  {
   "cell_type": "code",
   "execution_count": null,
   "metadata": {},
   "outputs": [],
   "source": []
  }
 ],
 "metadata": {
  "kernelspec": {
   "display_name": "Python 3",
   "language": "python",
   "name": "python3"
  },
  "language_info": {
   "codemirror_mode": {
    "name": "ipython",
    "version": 3
   },
   "file_extension": ".py",
   "mimetype": "text/x-python",
   "name": "python",
   "nbconvert_exporter": "python",
   "pygments_lexer": "ipython3",
   "version": "3.8.5-final"
  }
 },
 "nbformat": 4,
 "nbformat_minor": 2
}